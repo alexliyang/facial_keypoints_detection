{
 "cells": [
  {
   "cell_type": "code",
   "execution_count": 1,
   "metadata": {},
   "outputs": [],
   "source": [
    "%matplotlib inline\n",
    "import numpy as np\n",
    "import matplotlib.pyplot as plt\n",
    "import pandas as pd\n",
    "import cv2\n",
    "import torch\n",
    "import torchvision\n",
    "from torch.utils.data import DataLoader, Dataset, TensorDataset\n",
    "from torch.autograd import Variable\n",
    "from torch import nn"
   ]
  },
  {
   "cell_type": "code",
   "execution_count": 2,
   "metadata": {},
   "outputs": [],
   "source": [
    "# cv2.circle?\n",
    "# nn.Conv2d?\n",
    "# nn.MaxPool2d?\n",
    "# nn.Linear?\n",
    "# nn.MSELoss?"
   ]
  },
  {
   "cell_type": "markdown",
   "metadata": {},
   "source": [
    "line(img, pt1, pt2, color[, thickness[, lineType[, shift]]])\n",
    "\n",
    "circle(img, center, radius, color[, thickness[, lineType[, shift]]])\n",
    "\n",
    "nn.Conv2d(self, in_channels, out_channels, kernel_size, stride=1, padding=0, dilation=1, groups=1, bias=True)\n",
    "\n",
    "nn.MaxPool2d(self, kernel_size, stride=None, padding=0, dilation=1, return_indices=False, ceil_mode=False)\n",
    "\n",
    "nn.Linear(self, in_features, out_features, bias=True)"
   ]
  },
  {
   "cell_type": "code",
   "execution_count": 3,
   "metadata": {},
   "outputs": [],
   "source": [
    "# height, width = 96, 96"
   ]
  },
  {
   "cell_type": "code",
   "execution_count": 4,
   "metadata": {},
   "outputs": [],
   "source": [
    "test_df = pd.read_csv('../data/test.csv')"
   ]
  },
  {
   "cell_type": "code",
   "execution_count": 5,
   "metadata": {},
   "outputs": [],
   "source": [
    "# 去除缺失项\n",
    "test_df = test_df.dropna()"
   ]
  },
  {
   "cell_type": "code",
   "execution_count": 6,
   "metadata": {},
   "outputs": [],
   "source": [
    "def str2array(data_str):\n",
    "    data_array = np.fromstring(data_str, dtype=np.float32, sep=' ')\n",
    "    return data_array"
   ]
  },
  {
   "cell_type": "code",
   "execution_count": 7,
   "metadata": {},
   "outputs": [],
   "source": [
    "# y = test_df.values[:, :-1]\n",
    "# y = np.array(y, dtype=np.float32)\n",
    "# y = y/96.0\n",
    "X = test_df.values[:, -1]\n",
    "X = np.array(map(str2array, X))\n",
    "X = X/255.0"
   ]
  },
  {
   "cell_type": "code",
   "execution_count": 8,
   "metadata": {},
   "outputs": [],
   "source": [
    "X = X.reshape(-1, 1, 96, 96)"
   ]
  },
  {
   "cell_type": "code",
   "execution_count": 9,
   "metadata": {},
   "outputs": [
    {
     "data": {
      "text/plain": [
       "(1783, 1, 96, 96)"
      ]
     },
     "execution_count": 9,
     "metadata": {},
     "output_type": "execute_result"
    }
   ],
   "source": [
    "X.shape"
   ]
  },
  {
   "cell_type": "code",
   "execution_count": 10,
   "metadata": {},
   "outputs": [],
   "source": [
    "# out_channel = y.shape[1]"
   ]
  },
  {
   "cell_type": "code",
   "execution_count": 11,
   "metadata": {},
   "outputs": [],
   "source": [
    "out_channel = 30"
   ]
  },
  {
   "cell_type": "code",
   "execution_count": 12,
   "metadata": {},
   "outputs": [],
   "source": [
    "class Net(nn.Module):\n",
    "    def __init__(self, out_channel):\n",
    "        super(Net, self).__init__()\n",
    "        # (-1, 1, 96, 96)----->(-1, 16, 48, 48)\n",
    "        self.conv1 = nn.Conv2d(in_channels=1, out_channels=16, kernel_size=3, stride=1, padding=1, dilation=1, groups=1, bias=True)\n",
    "        self.relu1 = nn.ReLU()\n",
    "        self.pool1 = nn.MaxPool2d(kernel_size=2, stride=None, padding=0, dilation=1, return_indices=False, ceil_mode=False)\n",
    "        \n",
    "        # (-1, 16, 48, 48)----->(-1, 32, 24, 24)\n",
    "        self.conv2 = nn.Conv2d(in_channels=16, out_channels=32, kernel_size=3, stride=1, padding=1, dilation=1, groups=1, bias=True)\n",
    "        self.relu2 = nn.ReLU()\n",
    "        self.pool2 = nn.MaxPool2d(kernel_size=2, stride=None, padding=0, dilation=1, return_indices=False, ceil_mode=False)\n",
    "        \n",
    "        # (-1, 32, 24, 24)----->(-1, 64, 12, 12)\n",
    "        self.conv3 = nn.Conv2d(in_channels=32, out_channels=64, kernel_size=3, stride=1, padding=1, dilation=1, groups=1, bias=True)\n",
    "        self.relu3 = nn.ReLU()\n",
    "        self.pool3 = nn.MaxPool2d(kernel_size=2, stride=None, padding=0, dilation=1, return_indices=False, ceil_mode=False)\n",
    "        \n",
    "        # (-1, 64, 12, 12)----->(-1, 128, 6, 6)\n",
    "        self.conv4 = nn.Conv2d(in_channels=64, out_channels=128, kernel_size=3, stride=1, padding=1, dilation=1, groups=1, bias=True)\n",
    "        self.relu4 = nn.ReLU()\n",
    "        self.pool4 = nn.MaxPool2d(kernel_size=2, stride=None, padding=0, dilation=1, return_indices=False, ceil_mode=False)\n",
    "        \n",
    "        # (-1, 128, 6, 6)----->(-1, 128*6*6)----->(-1, 500)\n",
    "        self.fc1 = nn.Linear(in_features=128*6*6, out_features=500, bias=True)\n",
    "        self.fc2 = nn.Linear(in_features=500, out_features=out_channel, bias=True)\n",
    "        \n",
    "    def forward(self, x):\n",
    "        x = self.conv1(x)\n",
    "        x = self.relu1(x)\n",
    "        x = self.pool1(x)\n",
    "        \n",
    "        x = self.conv2(x)\n",
    "        x = self.relu2(x)\n",
    "        x = self.pool2(x)\n",
    "        \n",
    "        x = self.conv3(x)\n",
    "        x = self.relu3(x)\n",
    "        x = self.pool3(x)\n",
    "        \n",
    "        x = self.conv4(x)\n",
    "        x = self.relu4(x)\n",
    "        x = self.pool4(x)\n",
    "        \n",
    "        x = x.view(-1, 128*6*6)\n",
    "        x = self.fc1(x)\n",
    "        x = self.fc2(x)\n",
    "        out = x\n",
    "        return out\n",
    "net = Net(out_channel=out_channel)"
   ]
  },
  {
   "cell_type": "code",
   "execution_count": 13,
   "metadata": {},
   "outputs": [],
   "source": [
    "net.load_state_dict(torch.load('../model/facial_keypoints_model.pt'))"
   ]
  },
  {
   "cell_type": "code",
   "execution_count": 14,
   "metadata": {},
   "outputs": [],
   "source": [
    "X_tensor = torch.Tensor(torch.from_numpy(X))"
   ]
  },
  {
   "cell_type": "code",
   "execution_count": 15,
   "metadata": {},
   "outputs": [
    {
     "data": {
      "image/png": "[encoded data removed]",
      "text/plain": [
       "<matplotlib.figure.Figure at 0x118b63b90>"
      ]
     },
     "metadata": {},
     "output_type": "display_data"
    }
   ],
   "source": [
    "for i, X_samples in enumerate(X_tensor):\n",
    "    data_count = i\n",
    "    X_samples = X_samples.reshape(1, X_samples.shape[0], X_samples.shape[1], X_samples.shape[2])\n",
    "#     print('X_samples.shape:', X_samples.shape)\n",
    "\n",
    "    out_pred = net(X_samples)\n",
    "#     print('out_pred.shape:', out_pred.shape)\n",
    "#         print('out_pred:', out_pred)\n",
    "    out_pred_recover = out_pred*96.0\n",
    "#     print('out_pred_recover:', out_pred_recover)\n",
    "\n",
    "    out_pred_recover_np = out_pred_recover.data.numpy()\n",
    "    out_pred_recover_np = out_pred_recover_np.reshape(-1, 2)\n",
    "    X_samples_np = X_samples.data.numpy()\n",
    "    X_samples_np = X_samples_np * 255.0\n",
    "    X_samples_np = np.array(X_samples_np, dtype=np.uint8)\n",
    "    X_samples_np = X_samples_np.reshape(96, 96)\n",
    "    for out_pred_recover_np_sample_x, out_pred_recover_np_sample_y in out_pred_recover_np:\n",
    "        pass\n",
    "#             print('out_pred_recover_np_sample_x:', out_pred_recover_np_sample_x)\n",
    "#             print('out_pred_recover_np_sample_y:', out_pred_recover_np_sample_y)\n",
    "        cv2.circle(X_samples_np, center=(int(out_pred_recover_np_sample_x), int(out_pred_recover_np_sample_y)), radius=1, color=255, thickness=1)\n",
    "    plt.imshow(X_samples_np, cmap='gray')\n",
    "    plt.axis('off')\n",
    "    if i == 12:\n",
    "        break"
   ]
  },
  {
   "cell_type": "code",
   "execution_count": 16,
   "metadata": {},
   "outputs": [
    {
     "name": "stdout",
     "output_type": "stream",
     "text": [
      "('out_pred_recover_np.shape:', (53490,))\n"
     ]
    }
   ],
   "source": [
    "out_pred = net(X_tensor)\n",
    "#     print('out_pred.shape:', out_pred.shape)\n",
    "#         print('out_pred:', out_pred)\n",
    "out_pred_recover = out_pred*96.0\n",
    "#     print('out_pred_recover:', out_pred_recover)\n",
    "\n",
    "out_pred_recover_np = out_pred_recover.data.numpy()\n",
    "out_pred_recover_np = np.clip(out_pred_recover_np, 0, 96)\n",
    "out_pred_recover_np = out_pred_recover_np.reshape(-1)\n",
    "print('out_pred_recover_np.shape:', out_pred_recover_np.shape)"
   ]
  },
  {
   "cell_type": "code",
   "execution_count": 17,
   "metadata": {},
   "outputs": [],
   "source": [
    "# out_file = open('/tmp/tmp.txt', 'wb')\n",
    "# for out_pred_recover_np_val in out_pred_recover_np:\n",
    "#     print(out_pred_recover_np_val)\n",
    "# #     out_file.writelines(out_pred_recover_np)\n",
    "# out_file.close()"
   ]
  },
  {
   "cell_type": "code",
   "execution_count": null,
   "metadata": {},
   "outputs": [],
   "source": []
  }
 ],
 "metadata": {
  "kernelspec": {
   "display_name": "Python 2",
   "language": "python",
   "name": "python2"
  },
  "language_info": {
   "codemirror_mode": {
    "name": "ipython",
    "version": 2
   },
   "file_extension": ".py",
   "mimetype": "text/x-python",
   "name": "python",
   "nbconvert_exporter": "python",
   "pygments_lexer": "ipython2",
   "version": "2.7.10"
  }
 },
 "nbformat": 4,
 "nbformat_minor": 2
}
